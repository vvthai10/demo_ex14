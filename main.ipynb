{
 "cells": [
  {
   "cell_type": "code",
   "execution_count": null,
   "id": "ffefe2b8-73b6-407b-b1e8-d2f2297feb68",
   "metadata": {
    "scrolled": true
   },
   "outputs": [],
   "source": [
    "!python crontab.py"
   ]
  },
  {
   "cell_type": "code",
   "execution_count": null,
   "id": "d003307a-f9b1-4925-820e-fd600be70f55",
   "metadata": {
    "scrolled": true
   },
   "outputs": [],
   "source": [
    "!PYTHONPATH='$SPARvK_HOME/python:$SPARK_HOME/python/lib/py4j-0.10.9.7-src.zip:.' luigi --module process ChatHourlyAggregate\\\n",
    "    --input-path \"/root/chat_logs/2024_test/part-00001-f4318cad-33c0-4232-b88d-044efb2b760f-c000.snappy.parquet\"\\\n",
    "    --output-path \"/root/chat_logs/2024_test_res/\""
   ]
  },
  {
   "cell_type": "code",
   "execution_count": null,
   "id": "13b7bc85-5f49-4692-9b64-7a0f4289da33",
   "metadata": {},
   "outputs": [],
   "source": [
    "!PYTHONPATH='$SPARvK_HOME/python:$SPARK_HOME/python/lib/py4j-0.10.9.7-src.zip:.' luigi --module process ChatMonthlyAggregate\\\n",
    "    --input-path \"/root/chat_logs/2024_test_res/\"\n"
   ]
  }
 ],
 "metadata": {
  "kernelspec": {
   "display_name": "Python 3 (ipykernel)",
   "language": "python",
   "name": "python3"
  },
  "language_info": {
   "codemirror_mode": {
    "name": "ipython",
    "version": 3
   },
   "file_extension": ".py",
   "mimetype": "text/x-python",
   "name": "python",
   "nbconvert_exporter": "python",
   "pygments_lexer": "ipython3",
   "version": "3.9.20"
  }
 },
 "nbformat": 4,
 "nbformat_minor": 5
}
